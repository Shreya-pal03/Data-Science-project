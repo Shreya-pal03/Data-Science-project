{
  "cells": [
    {
      "cell_type": "markdown",
      "metadata": {
        "id": "234v-9XSmXCh"
      },
      "source": [
        "# Property Price Prediction Project"
      ]
    },
    {
      "cell_type": "markdown",
      "metadata": {
        "id": "UW8KLgMnmZj-"
      },
      "source": [
        "# Problem Objective :\n",
        "\n",
        "The project aims at building a model of housing prices to predict median house values in California using the provided dataset. This model should learn from the data and be able to predict the median housing price in any district, given all the other metrics.\n",
        "\n",
        "Districts or block groups are the smallest geographical units for which the US Census Bureau publishes sample data (a block group typically has a population of 600 to 3,000 people). There are 20,640 districts in the project dataset."
      ]
    },
    {
      "cell_type": "code",
      "execution_count": null,
      "metadata": {
        "id": "p_59TVbbmaCz"
      },
      "outputs": [],
      "source": [
        "import IPython\n",
        "IPython.display.Image('https://i-media.vyaparify.com/vcards/blogs/95898/Buysell1.jpg')"
      ]
    },
    {
      "cell_type": "code",
      "execution_count": null,
      "metadata": {
        "id": "xBGkypiXmcoi"
      },
      "outputs": [],
      "source": []
    },
    {
      "cell_type": "markdown",
      "metadata": {
        "id": "1bY5Opilme8A"
      },
      "source": [
        "# Step 1: Import Libraries"
      ]
    },
    {
      "cell_type": "code",
      "execution_count": null,
      "metadata": {
        "id": "PV_JfspGmfTY"
      },
      "outputs": [],
      "source": [
        "import numpy as np\n",
        "import pandas as pd\n",
        "import matplotlib.pyplot as plt\n",
        "import seaborn as sns\n",
        "import warnings\n",
        "import os\n",
        "from sklearn.linear_model import LinearRegression\n",
        "from sklearn.metrics import mean_absolute_error,mean_squared_error, r2_score #root_mean_squared_error\n",
        "from sklearn.datasets import fetch_california_housing\n",
        "\n",
        "warnings.filterwarnings('ignore')\n",
        "print('Modules Loaded Successfully!!')"
      ]
    },
    {
      "cell_type": "code",
      "execution_count": null,
      "metadata": {
        "id": "hiFcBfQemgab"
      },
      "outputs": [],
      "source": []
    },
    {
      "cell_type": "markdown",
      "metadata": {
        "id": "P3GB88jzmipZ"
      },
      "source": [
        "# Step 2 Load Data Create DF"
      ]
    },
    {
      "cell_type": "code",
      "execution_count": null,
      "metadata": {
        "id": "njywkn5_mjSY"
      },
      "outputs": [],
      "source": [
        "# Internet Required For This Code to Run\n",
        "data_dict = fetch_california_housing()\n",
        "\n",
        "data_dict.keys()"
      ]
    },
    {
      "cell_type": "code",
      "execution_count": null,
      "metadata": {
        "id": "3QYeU9phmlCD"
      },
      "outputs": [],
      "source": [
        "print(data_dict['feature_names'])"
      ]
    },
    {
      "cell_type": "code",
      "execution_count": null,
      "metadata": {
        "id": "KFKMPNKimmZx"
      },
      "outputs": [],
      "source": [
        "print(data_dict['target_names'])"
      ]
    },
    {
      "cell_type": "code",
      "execution_count": null,
      "metadata": {
        "id": "4O0lG3lvmniE"
      },
      "outputs": [],
      "source": [
        "df = pd.DataFrame(data_dict['data'],\n",
        "                  columns = data_dict['feature_names'])\n",
        "\n",
        "df['MedHouseVal'] = data_dict['target']\n",
        "\n",
        "\n",
        "print('Data Loaded Successfully!!')"
      ]
    },
    {
      "cell_type": "code",
      "execution_count": null,
      "metadata": {
        "id": "XWD237bjmpAV"
      },
      "outputs": [],
      "source": []
    },
    {
      "cell_type": "markdown",
      "metadata": {
        "id": "0gCkfFpXmqsH"
      },
      "source": [
        "# Step 3: Understanding Data using EDA"
      ]
    },
    {
      "cell_type": "code",
      "execution_count": null,
      "metadata": {
        "id": "3B09VbS-mrAE"
      },
      "outputs": [],
      "source": [
        "# Shape\n",
        "df.shape"
      ]
    },
    {
      "cell_type": "code",
      "execution_count": null,
      "metadata": {
        "id": "QHxw_STDmsRT"
      },
      "outputs": [],
      "source": [
        "# info\n",
        "df.info()"
      ]
    },
    {
      "cell_type": "code",
      "execution_count": null,
      "metadata": {
        "id": "QAB3C2zQmtcz"
      },
      "outputs": [],
      "source": [
        "# Checking Null values\n",
        "df.isna().sum()"
      ]
    },
    {
      "cell_type": "code",
      "execution_count": null,
      "metadata": {
        "id": "ObCbZYiDmukc"
      },
      "outputs": [],
      "source": [
        "print(data_dict['DESCR'])"
      ]
    },
    {
      "cell_type": "code",
      "execution_count": null,
      "metadata": {
        "id": "zEgqaNq5mvtW"
      },
      "outputs": [],
      "source": [
        "# hundreds of thousands of dollars ($100,000) 1 lakh Dollars\n",
        "# average number of household members\n",
        "df.sample()"
      ]
    },
    {
      "cell_type": "code",
      "execution_count": null,
      "metadata": {
        "id": "KDIgCj5Ymwt5"
      },
      "outputs": [],
      "source": [
        "# All data Must be in Numerical, Dataset contains all values in numerical\n",
        "# We can proceed this for Analysis"
      ]
    },
    {
      "cell_type": "code",
      "execution_count": null,
      "metadata": {
        "id": "zVx_EqpbmyDV"
      },
      "outputs": [],
      "source": [
        "# Checking data Distribution\n",
        "\n",
        "sns.pairplot(data = df,corner=True)\n",
        "plt.show()"
      ]
    },
    {
      "cell_type": "code",
      "execution_count": null,
      "metadata": {
        "id": "vsoMDCtqm0II"
      },
      "outputs": [],
      "source": [
        "# Checking data Distribution\n",
        "\n",
        "plt.title('Features vs target Corr')\n",
        "sns.heatmap(df.corr().round(2), annot = True,cmap = 'mako')\n",
        "# cmap = color_map ( -1 to 1)\n",
        "plt.show()"
      ]
    },
    {
      "cell_type": "code",
      "execution_count": null,
      "metadata": {
        "id": "BLFYCzq8m1P5"
      },
      "outputs": [],
      "source": [
        "# Data Describe()\n",
        "df.describe()"
      ]
    },
    {
      "cell_type": "code",
      "execution_count": null,
      "metadata": {
        "id": "DIk7xjb1m2S5"
      },
      "outputs": [],
      "source": [
        "plt.figure(figsize = (15,12))\n",
        "for i,j in enumerate(df.columns):\n",
        "  plt.subplot(3,3, i+1)\n",
        "  plt.hist(df[j],color = 'blue', alpha = 0.3)\n",
        "  plt.title(j+' Analysis')\n",
        "plt.show()"
      ]
    },
    {
      "cell_type": "code",
      "execution_count": null,
      "metadata": {
        "id": "bCnIaaiLm3f3"
      },
      "outputs": [],
      "source": [
        "# Distribution of target Value MedHousevalue vs MedInc\n",
        "\n",
        "sns.jointplot(data = df, x = 'MedHouseVal', y = 'MedInc')\n",
        "plt.show()"
      ]
    },
    {
      "cell_type": "code",
      "execution_count": null,
      "metadata": {
        "id": "_O1a0MSsm4dz"
      },
      "outputs": [],
      "source": [
        "# sns.regplot(data = df, x = 'MedHouseVal', y = 'MedInc')\n",
        "# plt.show()"
      ]
    },
    {
      "cell_type": "code",
      "execution_count": null,
      "metadata": {
        "id": "Gv9ldTBzm5ov"
      },
      "outputs": [],
      "source": [
        "df['MedHouseVal'].describe()\n",
        "# 75 % of price less than 2.64 lakh dollars"
      ]
    },
    {
      "cell_type": "markdown",
      "metadata": {
        "id": "SltF_Sqhm8tp"
      },
      "source": [
        "# Step 4: Feature Engineering and Preprocessing"
      ]
    },
    {
      "cell_type": "code",
      "execution_count": null,
      "metadata": {
        "id": "YnR-Ooz5m9Ao"
      },
      "outputs": [],
      "source": [
        "# Convert data to Same Scale for better prediction\n",
        "# normalization = MinMaxScaler\n",
        "from sklearn.preprocessing import MinMaxScaler\n",
        "\n",
        "\n",
        "X = df.iloc[:,:-1]\n",
        "y = df['MedHouseVal']\n",
        "\n",
        "\n",
        "\n",
        "scaler = MinMaxScaler()\n",
        "\n",
        "scaler.fit(X)  # Learning: Fit data in 0 to 1\n",
        "X_scaled = scaler.transform(X)\n",
        "\n",
        "print('Done')"
      ]
    },
    {
      "cell_type": "code",
      "execution_count": null,
      "metadata": {
        "id": "jh5nslyim-Qq"
      },
      "outputs": [],
      "source": [
        "print(X_scaled.min())\n",
        "print(X_scaled.max())"
      ]
    },
    {
      "cell_type": "code",
      "execution_count": null,
      "metadata": {
        "id": "FrYnmbjqnAvY"
      },
      "outputs": [],
      "source": []
    },
    {
      "cell_type": "markdown",
      "metadata": {
        "id": "DQHVYGV2pQIx"
      },
      "source": [
        "# Step 5: Train test Split: Split Data for Training and testing Part"
      ]
    },
    {
      "cell_type": "code",
      "execution_count": null,
      "metadata": {
        "id": "4_B93jQ2peI-"
      },
      "outputs": [],
      "source": [
        "# Train test Split: Divide into train Part Test Part\n",
        "# train_test_split: Func: divide\n",
        "\n",
        "\n",
        "from sklearn.model_selection import train_test_split\n",
        "\n",
        "X_train, X_test, y_train, y_test = train_test_split(X_scaled,y,test_size=.2, random_state= 150 )\n",
        "print('Done')"
      ]
    },
    {
      "cell_type": "code",
      "execution_count": null,
      "metadata": {
        "id": "xeLrrBDVphR4"
      },
      "outputs": [],
      "source": [
        "b,a,c,d = [23,534,6,65] # Unpacking\n",
        "print(a)"
      ]
    },
    {
      "cell_type": "code",
      "execution_count": null,
      "metadata": {
        "id": "dhcZQTvVbLsF"
      },
      "outputs": [],
      "source": [
        "import random\n",
        "random.seed(56)\n",
        "random.randint(1,50)"
      ]
    },
    {
      "cell_type": "code",
      "execution_count": null,
      "metadata": {
        "id": "DRnQiA8MbLsK"
      },
      "outputs": [],
      "source": [
        "print('Shape of Xtrain',X_train.shape)\n",
        "print('Shape of X_test',X_test.shape)\n",
        "print('Shape of y_train',y_train.shape)\n",
        "print('Shape of y_test',y_test.shape)\n"
      ]
    },
    {
      "cell_type": "code",
      "execution_count": null,
      "metadata": {
        "id": "3IsRwuW3bLsK"
      },
      "outputs": [],
      "source": [
        "X_scaled.shape"
      ]
    },
    {
      "cell_type": "code",
      "execution_count": null,
      "metadata": {
        "id": "QFZtS48jbLsK"
      },
      "outputs": [],
      "source": [
        "20640*.8"
      ]
    },
    {
      "cell_type": "code",
      "execution_count": null,
      "metadata": {
        "id": "ApjOpcqybLsK"
      },
      "outputs": [],
      "source": [
        "df.shape"
      ]
    },
    {
      "cell_type": "markdown",
      "metadata": {
        "id": "6EyZp9qHbLsK"
      },
      "source": [
        "# Step 6: Model Building"
      ]
    },
    {
      "cell_type": "markdown",
      "metadata": {
        "id": "qpYQjx9BbLsK"
      },
      "source": [
        "###### Step 6.1 Linear Model Using Linear Regression"
      ]
    },
    {
      "cell_type": "code",
      "execution_count": null,
      "metadata": {
        "id": "aOB8wiLKbLsL"
      },
      "outputs": [],
      "source": [
        "from sklearn.linear_model import LinearRegression\n",
        "\n",
        "lr_model = LinearRegression() # Object Creation\n",
        "\n",
        "lr_model.fit(X_train,y_train) # Trainig Model"
      ]
    },
    {
      "cell_type": "markdown",
      "metadata": {
        "id": "vrVe-xkqbLsL"
      },
      "source": [
        "###### Step 6.1.2: Model prediction"
      ]
    },
    {
      "cell_type": "code",
      "execution_count": null,
      "metadata": {
        "id": "-dDo17OtbLsL"
      },
      "outputs": [],
      "source": [
        "# Test data: X_test\n",
        "\n",
        "y_pred = lr_model.predict(X_test)\n",
        "print('Done')"
      ]
    },
    {
      "cell_type": "code",
      "execution_count": null,
      "metadata": {
        "id": "zEvjU-jBbLsL"
      },
      "outputs": [],
      "source": [
        "# 20 %: Actual answer: y_test, Predcited: y_pred\n",
        "\n",
        "lr_compare_df = pd.DataFrame({'Actual House price':y_test,\n",
        "             'Predicted House price':y_pred})\n",
        "\n",
        "print('Done')"
      ]
    },
    {
      "cell_type": "code",
      "execution_count": null,
      "metadata": {
        "id": "7ahXBLVGbLsL"
      },
      "outputs": [],
      "source": [
        "lr_compare_df"
      ]
    },
    {
      "cell_type": "code",
      "execution_count": null,
      "metadata": {
        "id": "t7qq1BMNbLsL"
      },
      "outputs": [],
      "source": [
        "lr_mae = mean_absolute_error(y_test,y_pred)\n",
        "print('Lr MAE',lr_mae)"
      ]
    },
    {
      "cell_type": "code",
      "execution_count": null,
      "metadata": {
        "id": "4XsyeEZubLsL"
      },
      "outputs": [],
      "source": [
        "lr_mse = mean_squared_error(y_test,y_pred)\n",
        "print('Lr MSE',lr_mse)"
      ]
    },
    {
      "cell_type": "code",
      "execution_count": null,
      "metadata": {
        "id": "8MOcsN8KbLsL"
      },
      "outputs": [],
      "source": [
        "lr_rmse = lr_mse**.5\n",
        "\n",
        "print('Lr RMSE',lr_rmse)"
      ]
    },
    {
      "cell_type": "code",
      "execution_count": null,
      "metadata": {
        "id": "AYYcVUi6bLsM"
      },
      "outputs": [],
      "source": [
        "# Trainig Score\n",
        "lr_train_score = lr_model.score(X_train,y_train)\n",
        "print('Training Score',lr_train_score)\n",
        "\n",
        "# testing Score\n",
        "lr_test_score = lr_model.score(X_test,y_test)\n",
        "print('testing Score',lr_test_score)\n"
      ]
    },
    {
      "cell_type": "code",
      "execution_count": null,
      "metadata": {
        "id": "p7la2NHxbLsM"
      },
      "outputs": [],
      "source": [
        "# Model Score: apx: 60%, Model not that much good, we need, more parameter tuning\n",
        "# Alternate Model call\n",
        "# : feature vs Fetaure high corr( X col: 8)\n",
        "\n",
        "# Variance Inflation Factor> 10 we can drop that col\n",
        "# Bias vs Variance Trade off: Intersect\n",
        "\n",
        "# Training score: High, Testing Score: Low = Overfit\n",
        "# Training score: Low, Testing Score: Low  = Underfit\n",
        "# Training score: Good, Testing Score: Good  = Balancedfit\n",
        "\n",
        "\n",
        "# Principal Component Analysis (PCA) is a dimensionality reduction technique\n",
        "# PCA:  Imp Features(cols) Find: (8: 5 Imp)"
      ]
    },
    {
      "cell_type": "markdown",
      "metadata": {
        "id": "APNkJd61bLsM"
      },
      "source": [
        "![mlconcepts_image5.png](attachment:9d0800a9-9f47-458b-a328-7e12c2b68c12.png)"
      ]
    },
    {
      "cell_type": "markdown",
      "metadata": {
        "id": "wjwVy8-AbLsM"
      },
      "source": [
        "![testset.webp](attachment:54ad481d-491d-4654-92fd-4149bd3f5e13.webp)"
      ]
    },
    {
      "cell_type": "code",
      "execution_count": null,
      "metadata": {
        "id": "FUalNYTSbLsN"
      },
      "outputs": [],
      "source": [
        "# Lasso,Ridge :  Linear regression: Balanced fit model creation"
      ]
    },
    {
      "cell_type": "markdown",
      "metadata": {
        "id": "SIaTzZ5obLsN"
      },
      "source": [
        "![Bias_and_variance_contributing_to_total_error.svg.png](attachment:aae01608-98d4-4f30-8ab7-6a0512f687ff.png)"
      ]
    },
    {
      "cell_type": "markdown",
      "metadata": {
        "id": "dnX5o60tbLsN"
      },
      "source": [
        "###### Step 6.1.3: checking VIF and Drop column if value vif>10"
      ]
    },
    {
      "cell_type": "code",
      "execution_count": null,
      "metadata": {
        "id": "DGcfyWSybLsN"
      },
      "outputs": [],
      "source": [
        "X_train_df = pd.DataFrame(X_train, columns = data_dict['feature_names'])\n",
        "X_train_df.sample()"
      ]
    },
    {
      "cell_type": "code",
      "execution_count": null,
      "metadata": {
        "id": "mdhl7eRvbLsO"
      },
      "outputs": [],
      "source": [
        "from statsmodels.stats.outliers_influence import variance_inflation_factor\n",
        "\n",
        "X_train_df['intercept']  = 1\n",
        "\n",
        "X_train_df.sample()"
      ]
    },
    {
      "cell_type": "code",
      "execution_count": null,
      "metadata": {
        "scrolled": true,
        "id": "5RNy5wsmbLsO"
      },
      "outputs": [],
      "source": [
        "# X_train_df.shape[1]"
      ]
    },
    {
      "cell_type": "code",
      "execution_count": null,
      "metadata": {
        "id": "4AK_l22NbLsO"
      },
      "outputs": [],
      "source": [
        "# X_train_df.columns"
      ]
    },
    {
      "cell_type": "code",
      "execution_count": null,
      "metadata": {
        "id": "TyTAS3CSbLsO"
      },
      "outputs": [],
      "source": [
        "# X_train_df.values"
      ]
    },
    {
      "cell_type": "code",
      "execution_count": null,
      "metadata": {
        "id": "v1vhytvTbLsO"
      },
      "outputs": [],
      "source": [
        "vif_df = pd.DataFrame()\n",
        "\n",
        "vif_df['Features'] = list(data_dict['feature_names']) + ['Intercept']\n",
        "\n",
        "vif_value = [variance_inflation_factor(X_train_df.values,i) for i in range(X_train_df.shape[1])]\n",
        "\n",
        "vif_df['VIF factor'] = vif_value\n",
        "\n",
        "vif_df.sort_values(by = 'VIF factor',ascending= False)\n",
        "\n",
        "# Because Latitude and Longitude has high corr and vif close to 10 we can drop one or both"
      ]
    },
    {
      "cell_type": "code",
      "execution_count": null,
      "metadata": {
        "id": "YmVLZdLTbLsO"
      },
      "outputs": [],
      "source": [
        "# X is an independent features"
      ]
    },
    {
      "cell_type": "code",
      "execution_count": null,
      "metadata": {
        "id": "nLS5mK7FbLsP"
      },
      "outputs": [],
      "source": [
        "# print(['Hello'+str(i) for i in range(10)])\n",
        "# # Run loop inside list:"
      ]
    },
    {
      "cell_type": "code",
      "execution_count": null,
      "metadata": {
        "id": "v3dmvWnpbLsP"
      },
      "outputs": [],
      "source": []
    },
    {
      "cell_type": "code",
      "execution_count": null,
      "metadata": {
        "id": "z6SGYwT6bLsP"
      },
      "outputs": [],
      "source": [
        "col = list(X.columns)\n",
        "col.remove('Latitude')\n",
        "\n",
        "# print(col)\n",
        "\n",
        "X_train_vif = X_train_df[col]\n",
        "X_train_vif.sample()"
      ]
    },
    {
      "cell_type": "markdown",
      "metadata": {
        "id": "lGkI8d29bLsP"
      },
      "source": [
        "![variance-inflation-factor.asp-Final-6cd8e4740c254821b0fa2ab057b5df88.jpg](attachment:25d879c8-fab7-46d3-928a-5ed08c635c7f.jpg)"
      ]
    },
    {
      "cell_type": "code",
      "execution_count": null,
      "metadata": {
        "id": "P0yJ3WJRbLsP"
      },
      "outputs": [],
      "source": []
    },
    {
      "cell_type": "code",
      "execution_count": null,
      "metadata": {
        "id": "vUNwm4RXbLsP"
      },
      "outputs": [],
      "source": [
        "def built_model(ml_model, col):\n",
        "\n",
        "    new_X_train = pd.DataFrame(X_train,columns = data_dict['feature_names'])\n",
        "    final_X_train = new_X_train[col]\n",
        "\n",
        "    new_X_test = pd.DataFrame(X_test,columns = data_dict['feature_names'])\n",
        "    final_X_test = new_X_test[col]\n",
        "\n",
        "    machine_model = ml_model()\n",
        "    machine_model.fit(final_X_train,y_train)\n",
        "\n",
        "    model_y_pred = machine_model.predict(final_X_test)\n",
        "\n",
        "    model_train_score = machine_model.score(final_X_train,y_train)\n",
        "    model_test_score = machine_model.score(final_X_test,y_test)\n",
        "\n",
        "    model_mae_error = mean_absolute_error(y_test,model_y_pred)\n",
        "    model_mse_error = mean_squared_error(y_test,model_y_pred)\n",
        "    model_rmse_error = model_mse_error**.5\n",
        "    model_r2_score = r2_score(y_test,model_y_pred)\n",
        "\n",
        "    model_metrics = {'Model Training Score':model_train_score,\n",
        "                    'Model Test Score':model_test_score,\n",
        "                    'MAE Error':model_mae_error,\n",
        "                    'MSE Error':model_mse_error,\n",
        "                    'RMSE Error':model_rmse_error,\n",
        "                    'R2 Score':model_r2_score}\n",
        "\n",
        "    model_matrix = pd.DataFrame(model_metrics,index = [1])\n",
        "\n",
        "    return model_matrix,machine_model\n",
        "\n"
      ]
    },
    {
      "cell_type": "code",
      "execution_count": null,
      "metadata": {
        "id": "Wm5-y5SobLsP"
      },
      "outputs": [],
      "source": [
        "ml_model = LinearRegression\n",
        "\n",
        "built_model(ml_model,col)[0]"
      ]
    },
    {
      "cell_type": "code",
      "execution_count": null,
      "metadata": {
        "id": "AT5rSZVGbLsP"
      },
      "outputs": [],
      "source": [
        "from sklearn.linear_model import Lasso, Ridge"
      ]
    },
    {
      "cell_type": "code",
      "source": [
        "ml_model = Lasso\n",
        "# Lasso regression not giving much score, we can reject this model\n",
        "built_model(ml_model,col)[0]"
      ],
      "metadata": {
        "id": "CKHnJbF3ex7Q"
      },
      "execution_count": null,
      "outputs": []
    },
    {
      "cell_type": "code",
      "source": [
        "ml_model = Ridge\n",
        "\n",
        "built_model(ml_model,col)[0]"
      ],
      "metadata": {
        "id": "UHHapF2KezN6"
      },
      "execution_count": null,
      "outputs": []
    },
    {
      "cell_type": "code",
      "source": [
        "print(col)"
      ],
      "metadata": {
        "id": "BtzuIWbFiOvX"
      },
      "execution_count": null,
      "outputs": []
    },
    {
      "cell_type": "code",
      "source": [
        "col = ['MedInc', 'HouseAge', 'AveRooms', 'AveBedrms', 'Population', 'AveOccup']"
      ],
      "metadata": {
        "id": "haFsqg-tstWb"
      },
      "execution_count": null,
      "outputs": []
    },
    {
      "cell_type": "code",
      "source": [
        "all_model = [LinearRegression, Ridge]\n",
        "\n",
        "from sklearn.preprocessing import StandardScaler\n",
        "sc = StandardScaler()\n",
        "\n",
        "ss_X = sc.fit_transform(X)\n",
        "\n",
        "i = 1\n",
        "while True:\n",
        "  X_train, X_test, y_train, y_test = train_test_split(ss_X, y,random_state=i,test_size=0.1)\n",
        "  i += 1\n",
        "\n",
        "  temp_df,final_model = built_model(Ridge,col)\n",
        "  score = temp_df['Model Test Score'].values[0]\n",
        "\n",
        "  print('Score is:',score)\n",
        "  if score >= 0.6:\n",
        "    print('Best random State',i)\n",
        "\n",
        "    display(temp_df)\n",
        "    break\n",
        "\n",
        "  display(clear=True)"
      ],
      "metadata": {
        "id": "NAQ6PU4ve0sm"
      },
      "execution_count": null,
      "outputs": []
    },
    {
      "cell_type": "code",
      "source": [
        "final_model"
      ],
      "metadata": {
        "id": "YAqPSnqWhYCf"
      },
      "execution_count": null,
      "outputs": []
    },
    {
      "cell_type": "code",
      "source": [],
      "metadata": {
        "id": "HeTiKwHWsykF"
      },
      "execution_count": null,
      "outputs": []
    },
    {
      "cell_type": "markdown",
      "source": [
        "# Step 7: Model Save and Localhost Deployment"
      ],
      "metadata": {
        "id": "ILELBlfKysyO"
      }
    },
    {
      "cell_type": "code",
      "source": [
        "import pickle\n",
        "\n",
        "with open('house_price_pred_ridge_model.pkl','wb') as f:\n",
        "    pickle.dump(final_model,f)\n",
        "\n",
        "with open('sc_scaler.pkl','wb') as f:\n",
        "    pickle.dump(sc,f)\n",
        "\n",
        "print('ML model and Scaller Saved Successfully!!')"
      ],
      "metadata": {
        "id": "aPisNiZoyxpx"
      },
      "execution_count": null,
      "outputs": []
    },
    {
      "cell_type": "code",
      "source": [
        "#Ml Model: Client:\n",
        "# Website: Input Value: Prediction\n",
        "# Website: Python: Django, Flask, Fastapi, : Streamlit\n",
        "# Streamlit: Python Web-based, Framework, Fast ML model test website\n",
        "# Streamlit = Devlpoment + Deployment(For ML Engineers)"
      ],
      "metadata": {
        "id": "HwEwl11ryyhM"
      },
      "execution_count": null,
      "outputs": []
    },
    {
      "cell_type": "code",
      "source": [
        "# pip install streamlit"
      ],
      "metadata": {
        "id": "lcTXD8tE1hFs"
      },
      "execution_count": null,
      "outputs": []
    },
    {
      "cell_type": "code",
      "source": [
        "import streamlit as st\n",
        "\n",
        "# Title\n",
        "\n",
        "col = ['MedInc', 'HouseAge', 'AveRooms', 'AveBedrms', 'Population', 'AveOccup']\n",
        "\n",
        "st.title('California Housing Price Prediction')\n",
        "\n",
        "st.image('https://nycdsa-blog-files.s3.us-east-2.amazonaws.com/2021/03/chaitali-majumder/house-price-497112-KhCJQICS.jpg')\n",
        "\n",
        "\n",
        "\n",
        "st.header('Model of housing prices to predict median house values in California ',divider=True)\n",
        "\n",
        "st.subheader('''User Must Enter Given values to predict Price:\n",
        "['MedInc', 'HouseAge', 'AveRooms', 'AveBedrms', 'Population', 'AveOccup']''')\n",
        "\n",
        "\n",
        "st.sidebar.title('Select House Features 🏠')\n",
        "\n",
        "st.sidebar.image('https://png.pngtree.com/thumb_back/fh260/background/20230804/pngtree-an-upside-graph-showing-prices-and-houses-in-the-market-image_13000262.jpg')\n",
        "\n",
        "\n",
        "\n"
      ],
      "metadata": {
        "id": "IgnHXNmW2RxF"
      },
      "execution_count": null,
      "outputs": []
    },
    {
      "cell_type": "code",
      "source": [
        "for i in df[col]:\n",
        "    min_value, max_value = df[i].agg(['min','max'])\n",
        "\n",
        "    print('min',i,min_value)\n",
        "    print('max',i,max_value)\n"
      ],
      "metadata": {
        "id": "hpNmRvtoBiGT"
      },
      "execution_count": null,
      "outputs": []
    },
    {
      "cell_type": "code",
      "source": [
        "# read_data\n",
        "temp_df = pd.read_csv('california.csv')\n",
        "\n",
        "for i in temp_df[col]:\n",
        "    min_value, max_value = df[i].agg(['min','max'])"
      ],
      "metadata": {
        "id": "FFxNZNqxE-he"
      },
      "execution_count": null,
      "outputs": []
    },
    {
      "cell_type": "code",
      "source": [
        "import streamlit as st\n",
        "import pandas as pd\n",
        "import random\n",
        "from sklearn.preprocessing import StandardScaler\n",
        "import pickle\n",
        "\n",
        "# Title\n",
        "\n",
        "col = ['MedInc', 'HouseAge', 'AveRooms', 'AveBedrms', 'Population', 'AveOccup']\n",
        "\n",
        "st.title('California Housing Price Prediction')\n",
        "\n",
        "st.image('https://nycdsa-blog-files.s3.us-east-2.amazonaws.com/2021/03/chaitali-majumder/house-price-497112-KhCJQICS.jpg')\n",
        "\n",
        "\n",
        "\n",
        "st.header('Model of housing prices to predict median house values in California ',divider=True)\n",
        "\n",
        "st.subheader('''User Must Enter Given values to predict Price:\n",
        "['MedInc', 'HouseAge', 'AveRooms', 'AveBedrms', 'Population', 'AveOccup']''')\n",
        "\n",
        "\n",
        "st.sidebar.title('Select House Features 🏠')\n",
        "\n",
        "st.sidebar.image('https://png.pngtree.com/thumb_back/fh260/background/20230804/pngtree-an-upside-graph-showing-prices-and-houses-in-the-market-image_13000262.jpg')\n",
        "\n",
        "\n",
        "# read_data\n",
        "temp_df = pd.read_csv('california.csv')\n",
        "\n",
        "random.seed(52)\n",
        "\n",
        "all_values = []\n",
        "\n",
        "for i in temp_df[col]:\n",
        "    min_value, max_value = temp_df[i].agg(['min','max'])\n",
        "\n",
        "    var =st.sidebar.slider(f'Select {i} value', int(min_value), int(max_value),\n",
        "                      random.randint(int(min_value),int(max_value)))\n",
        "\n",
        "    all_values.append(var)\n",
        "\n",
        "ss = StandardScaler()\n",
        "ss.fit(temp_df[col])\n",
        "\n",
        "final_value = ss.transform([all_values])\n",
        "\n",
        "with open('house_price_pred_ridge_model.pkl','rb') as f:\n",
        "    chatgpt = pickle.load(f)\n",
        "\n",
        "price = chatgpt.predict(final_value)[0]\n",
        "\n",
        "\n",
        "import time\n",
        "\n",
        "\n",
        "progress_bar = st.progress(0)\n",
        "placeholder = st.empty()\n",
        "placeholder.subheader('Predicting Price')\n",
        "\n",
        "if price>0:\n",
        "\n",
        "    for i in range(100):\n",
        "        time.sleep(0.05)\n",
        "        progress_bar.progress(i + 1)\n",
        "\n",
        "    body = f'Predicted Median House Price: ${round(price,2)} Thousand Dollars'\n",
        "    placeholder.empty()\n",
        "    # st.subheader(body)\n",
        "\n",
        "    st.success(body)\n",
        "else:\n",
        "    body = 'Invalid House features Values'\n",
        "    st.warning(body)\n",
        "\n",
        "\n",
        "\n",
        "\n",
        "\n",
        "\n",
        "\n",
        "\n",
        "\n",
        "\n",
        "\n"
      ],
      "metadata": {
        "id": "CgQDwtqgH20k"
      },
      "execution_count": null,
      "outputs": []
    },
    {
      "cell_type": "code",
      "source": [
        "pandas==1.5.3\n",
        "streamlit==1.37.1\n",
        "random\n",
        "time\n",
        "pickle\n",
        "scikit-learn==1.5.1"
      ],
      "metadata": {
        "id": "etZIm1UTw0OJ"
      },
      "execution_count": null,
      "outputs": []
    },
    {
      "cell_type": "code",
      "source": [],
      "metadata": {
        "id": "1ldX4hvtOfPr"
      },
      "execution_count": null,
      "outputs": []
    }
  ],
  "metadata": {
    "colab": {
      "private_outputs": true,
      "provenance": []
    },
    "kernelspec": {
      "display_name": "Python [conda env:base] *",
      "language": "python",
      "name": "conda-base-py"
    },
    "language_info": {
      "codemirror_mode": {
        "name": "ipython",
        "version": 3
      },
      "file_extension": ".py",
      "mimetype": "text/x-python",
      "name": "python",
      "nbconvert_exporter": "python",
      "pygments_lexer": "ipython3",
      "version": "3.12.7"
    }
  },
  "nbformat": 4,
  "nbformat_minor": 0
}